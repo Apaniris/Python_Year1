{
 "cells": [
  {
   "cell_type": "markdown",
   "metadata": {},
   "source": [
    "# ตัวอย่างประกอบ วิชา STOU 99424\n",
    "# [บทที่ 3] ภาษาไพธอนพื้นฐาน\n",
    "เรียนอย่างมีความสุข อดนอนเป็นประจำ\n"
   ]
  },
  {
   "cell_type": "code",
   "execution_count": 5,
   "metadata": {},
   "outputs": [
    {
     "name": "stdout",
     "output_type": "stream",
     "text": [
      "Hello, Python!\n",
      "Hello, Python!\n"
     ]
    }
   ],
   "source": [
    "# ข้อความ หรือ text ต้องอยู่ในเครื่องหมาย \" \" (double quotes) หรือ ' ' (single quotes)\n",
    "\n",
    "print(\"Hello, Python!\")\n",
    "print('Hello, Python!')"
   ]
  },
  {
   "cell_type": "markdown",
   "metadata": {},
   "source": []
  },
  {
   "cell_type": "markdown",
   "metadata": {},
   "source": [
    "## เรื่องที่ 3.1.1 ชนิดข้อมูล ตัวแปรและนิพจน์\n"
   ]
  },
  {
   "cell_type": "markdown",
   "metadata": {},
   "source": [
    "#### **ตัวอย่าง 3.1**"
   ]
  },
  {
   "cell_type": "code",
   "execution_count": null,
   "metadata": {},
   "outputs": [
    {
     "name": "stdout",
     "output_type": "stream",
     "text": [
      "15000\n",
      "5000\n",
      "3000\n"
     ]
    }
   ],
   "source": [
    "# สร้างตัวแปร imcome, food_expense, travel_cost\n",
    "income = 15000\n",
    "food_expense = 5000\n",
    "travel_cost = 3000\n",
    "print(income)\n",
    "print(food_expense)\n",
    "print(travel_cost)"
   ]
  },
  {
   "cell_type": "markdown",
   "metadata": {},
   "source": [
    "#### **ตัวอย่างที่ 3.2** การกำหนดค่าให้ตัวแปรตามชนิดข้อมูลต่าง ๆ"
   ]
  },
  {
   "cell_type": "code",
   "execution_count": 4,
   "metadata": {},
   "outputs": [
    {
     "name": "stdout",
     "output_type": "stream",
     "text": [
      "<class 'int'>\n",
      "<class 'float'>\n",
      "<class 'str'>\n",
      "<class 'bool'>\n",
      "<class 'NoneType'>\n"
     ]
    }
   ],
   "source": [
    "x = 100\n",
    "y = 2.4\n",
    "z = \"I,m learning Python programming\"\n",
    "k = False\n",
    "m = None\n",
    "\n",
    "# ตรวจสอบ data type\n",
    "print(type(x))\n",
    "print(type(y))\n",
    "print(type(z))\n",
    "print(type(k))\n",
    "print(type(m))\n"
   ]
  }
 ],
 "metadata": {
  "kernelspec": {
   "display_name": "Basic",
   "language": "python",
   "name": "python3"
  },
  "language_info": {
   "codemirror_mode": {
    "name": "ipython",
    "version": 3
   },
   "file_extension": ".py",
   "mimetype": "text/x-python",
   "name": "python",
   "nbconvert_exporter": "python",
   "pygments_lexer": "ipython3",
   "version": "3.12.9"
  }
 },
 "nbformat": 4,
 "nbformat_minor": 2
}
